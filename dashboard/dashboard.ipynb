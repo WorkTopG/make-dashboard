{
  "nbformat": 4,
  "nbformat_minor": 0,
  "metadata": {
    "colab": {
      "provenance": []
    },
    "kernelspec": {
      "name": "python3",
      "display_name": "Python 3"
    },
    "language_info": {
      "name": "python"
    }
  },
  "cells": [
    {
      "cell_type": "code",
      "execution_count": 1,
      "metadata": {
        "id": "Ao_9oz909z0v"
      },
      "outputs": [],
      "source": [
        "!gdown https://drive.google.com/uc?id=1RaBmV6Q6FYWU4HWZs80Suqd7KQC34diQ &> /dev/null\n",
        "!unzip Bike-sharing-dataset.zip &> /dev/null\n",
        "!rm -r Bike-sharing-dataset.zip &> /dev/null"
      ]
    },
    {
      "cell_type": "code",
      "execution_count": 2,
      "metadata": {
        "id": "IuvnEuruAnwl"
      },
      "outputs": [],
      "source": [
        "!pip install streamlit &> /dev/null"
      ]
    },
    {
      "cell_type": "code",
      "execution_count": 10,
      "metadata": {
        "colab": {
          "base_uri": "https://localhost:8080/"
        },
        "id": "OI_VUzeLaLM3",
        "outputId": "c2cb3b44-8071-4259-fa97-3cc571144856"
      },
      "outputs": [
        {
          "output_type": "stream",
          "name": "stdout",
          "text": [
            "Overwriting dashboard.py\n"
          ]
        }
      ],
      "source": [
        "%%writefile dashboard.py\n",
        "import pandas as pd, numpy as np, matplotlib.pyplot as plt, seaborn as sns, streamlit as st\n",
        "\n",
        "bike_df = pd.read_csv(\"day.csv\", parse_dates=['dteday'], index_col='dteday')\n",
        "bike_df.head()\n",
        "\n",
        "bike_df.rename(columns={'instant':'rec_id','dteday':'datetime','yr':'year','mnth':'month','weathersit':'weather_condition',\n",
        "                       'hum':'humidity','cnt':'total_count'},inplace=True)\n",
        "\n",
        "columns = ['season', 'year', 'month', 'holiday', 'weekday', 'workingday', 'weather_condition']\n",
        "\n",
        "for col in columns:\n",
        "  bike_df[col] = bike_df[col].astype(\"category\")\n",
        "\n",
        "total_df = bike_df[['total_count']]\n",
        "total_df = total_df.resample('M').mean()\n",
        "\n",
        "weather_df = bike_df.groupby(by=['season', 'holiday']).agg({\n",
        "    \"total_count\":\"sum\",\n",
        "})\n",
        "\n",
        "condition_df = bike_df.groupby(by=['month','holiday']).agg({\n",
        "    'total_count': 'sum'\n",
        "})\n",
        "\n",
        "with st.container():\n",
        "  st.title('Total Rental Bikes Last 2 Years per Months')\n",
        "  fig, ax = plt.subplots(figsize=(10,5))\n",
        "  sns.lineplot(x='dteday', y='total_count', data=total_df, ax=ax)\n",
        "  ax.set_xlabel(\"Date\")\n",
        "  ax.set_ylabel(\"Customers\")\n",
        "  st.pyplot(fig)\n",
        "  plt.show()\n",
        "\n",
        "with st.container():\n",
        "  st.title('Total Rental Bikes Every Seasons in Holiday')\n",
        "  fig, ax = plt.subplots(figsize=(10,5))\n",
        "  sns.barplot(x='season', y='total_count', data=weather_df, hue='holiday', ax=ax)\n",
        "  ax.set_title('Total Rental Bikes Every Seasons in Holiday')\n",
        "  ax.set_xlabel(\"Season\")\n",
        "  ax.set_ylabel(\"Customers\")\n",
        "  st.pyplot(fig)\n",
        "  plt.show()\n",
        "\n",
        "with st.container():\n",
        "  st.title('Total Rental Bikes Every Months in Holiday')\n",
        "  fig, ax = plt.subplots(figsize=(10,5))\n",
        "  sns.barplot(x='month', y='total_count', data=condition_df, hue='holiday', ax=ax)\n",
        "  ax.set_xlabel(\"Months\")\n",
        "  ax.set_ylabel(\"Customers\")\n",
        "  st.pyplot(fig)\n",
        "  plt.show()"
      ]
    },
    {
      "cell_type": "code",
      "source": [
        "!wget -q -O - ipv4.icanhazip.com\n",
        "print(\"Isi kode di atas di 'your url is' di bawah\")"
      ],
      "metadata": {
        "colab": {
          "base_uri": "https://localhost:8080/"
        },
        "id": "dstINqdfamAJ",
        "outputId": "aaa3c6fc-37b2-4e4e-f65e-06c714a33119"
      },
      "execution_count": 11,
      "outputs": [
        {
          "output_type": "stream",
          "name": "stdout",
          "text": [
            "34.73.188.119\n",
            "Isi kode di atas di 'your url is' di bawah\n"
          ]
        }
      ]
    },
    {
      "cell_type": "code",
      "source": [
        "!streamlit run dashboard.py & npx localtunnel --port 8501"
      ],
      "metadata": {
        "colab": {
          "base_uri": "https://localhost:8080/"
        },
        "id": "peXQMufpaajR",
        "outputId": "526c3d6f-6cb0-4247-f6e5-09dfed991c14"
      },
      "execution_count": 12,
      "outputs": [
        {
          "output_type": "stream",
          "name": "stdout",
          "text": [
            "[..................] \\ fetchMetadata: sill resolveWithNewModule yargs@17.1.1 ch\u001b[0m\u001b[K\n",
            "Collecting usage statistics. To deactivate, set browser.gatherUsageStats to False.\n",
            "\u001b[0m\n",
            "\u001b[0m\n",
            "\u001b[34m\u001b[1m  You can now view your Streamlit app in your browser.\u001b[0m\n",
            "\u001b[0m\n",
            "\u001b[34m  Network URL: \u001b[0m\u001b[1mhttp://172.28.0.12:8501\u001b[0m\n",
            "\u001b[34m  External URL: \u001b[0m\u001b[1mhttp://34.73.188.119:8501\u001b[0m\n",
            "\u001b[0m\n",
            "\u001b[K\u001b[?25hnpx: installed 22 in 2.934s\n",
            "your url is: https://twenty-maps-wink.loca.lt\n",
            "\u001b[34m  Stopping...\u001b[0m\n",
            "^C\n"
          ]
        }
      ]
    },
    {
      "cell_type": "code",
      "source": [],
      "metadata": {
        "id": "A1IfUJD9anqC"
      },
      "execution_count": null,
      "outputs": []
    }
  ]
}